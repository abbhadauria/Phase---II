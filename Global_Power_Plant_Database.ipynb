{
  "nbformat": 4,
  "nbformat_minor": 0,
  "metadata": {
    "colab": {
      "provenance": []
    },
    "kernelspec": {
      "name": "python3",
      "display_name": "Python 3"
    },
    "language_info": {
      "name": "python"
    }
  },
  "cells": [
    {
      "cell_type": "code",
      "execution_count": 1,
      "metadata": {
        "id": "VZ9lUuLJMEBR"
      },
      "outputs": [],
      "source": [
        "import numpy as np\n",
        "import pandas as pd\n",
        "\n",
        "from sklearn.preprocessing import LabelEncoder, StandardScaler\n",
        "from sklearn.model_selection import train_test_split\n",
        "\n",
        "from sklearn.linear_model import LogisticRegression\n",
        "from sklearn.svm import SVC\n",
        "from sklearn.neural_network import MLPClassifier\n",
        "from sklearn.tree import DecisionTreeClassifier\n",
        "from sklearn.ensemble import AdaBoostClassifier, BaggingClassifier, GradientBoostingClassifier, RandomForestClassifier"
      ]
    },
    {
      "cell_type": "code",
      "source": [
        "!pip install pandas --upgrade\n"
      ],
      "metadata": {
        "colab": {
          "base_uri": "https://localhost:8080/"
        },
        "id": "NZ-SVsi4GX-K",
        "outputId": "709d115f-097b-4267-ddd7-afdcda266ddc"
      },
      "execution_count": 2,
      "outputs": [
        {
          "output_type": "stream",
          "name": "stdout",
          "text": [
            "Looking in indexes: https://pypi.org/simple, https://us-python.pkg.dev/colab-wheels/public/simple/\n",
            "Requirement already satisfied: pandas in /usr/local/lib/python3.10/dist-packages (2.0.2)\n",
            "Requirement already satisfied: python-dateutil>=2.8.2 in /usr/local/lib/python3.10/dist-packages (from pandas) (2.8.2)\n",
            "Requirement already satisfied: pytz>=2020.1 in /usr/local/lib/python3.10/dist-packages (from pandas) (2022.7.1)\n",
            "Requirement already satisfied: tzdata>=2022.1 in /usr/local/lib/python3.10/dist-packages (from pandas) (2023.3)\n",
            "Requirement already satisfied: numpy>=1.21.0 in /usr/local/lib/python3.10/dist-packages (from pandas) (1.22.4)\n",
            "Requirement already satisfied: six>=1.5 in /usr/local/lib/python3.10/dist-packages (from python-dateutil>=2.8.2->pandas) (1.16.0)\n"
          ]
        }
      ]
    },
    {
      "cell_type": "code",
      "source": [
        "global_power_plant_raw_df = pd.read_csv('https://raw.githubusercontent.com/wri/global-power-plant-database/master/source_databases_csv/database_IND.csv')"
      ],
      "metadata": {
        "id": "Y9wMWHqSvYTX"
      },
      "execution_count": 3,
      "outputs": []
    },
    {
      "cell_type": "code",
      "source": [
        "global_power_plant_raw_df"
      ],
      "metadata": {
        "colab": {
          "base_uri": "https://localhost:8080/",
          "height": 748
        },
        "id": "7TiJi_JZvYzb",
        "outputId": "ff991372-8eee-4957-e2bb-f2ea059f0008"
      },
      "execution_count": 4,
      "outputs": [
        {
          "output_type": "execute_result",
          "data": {
            "text/plain": [
              "    country country_long                          name   gppd_idnr  \\\n",
              "0       IND        India              ACME Solar Tower  WRI1020239   \n",
              "1       IND        India           ADITYA CEMENT WORKS  WRI1019881   \n",
              "2       IND        India      AES Saurashtra Windfarms  WRI1026669   \n",
              "3       IND        India                   AGARTALA GT  IND0000001   \n",
              "4       IND        India                  AKALTARA TPP  IND0000002   \n",
              "..      ...          ...                           ...         ...   \n",
              "902     IND        India                  YERMARUS TPP  IND0000513   \n",
              "903     IND        India  Yelesandra Solar Power Plant  WRI1026222   \n",
              "904     IND        India  Yelisirur wind power project  WRI1026776   \n",
              "905     IND        India                   ZAWAR MINES  WRI1019901   \n",
              "906     IND        India       iEnergy Theni Wind Farm  WRI1026761   \n",
              "\n",
              "     capacity_mw  latitude  longitude primary_fuel other_fuel1 other_fuel2  \\\n",
              "0            2.5   28.1839    73.2407        Solar         NaN         NaN   \n",
              "1           98.0   24.7663    74.6090         Coal         NaN         NaN   \n",
              "2           39.2   21.9038    69.3732         Wind         NaN         NaN   \n",
              "3          135.0   23.8712    91.3602          Gas         NaN         NaN   \n",
              "4         1800.0   21.9603    82.4091         Coal         Oil         NaN   \n",
              "..           ...       ...        ...          ...         ...         ...   \n",
              "902       1600.0   16.2949    77.3568         Coal         Oil         NaN   \n",
              "903          3.0   12.8932    78.1654        Solar         NaN         NaN   \n",
              "904         25.5   15.2758    75.5811         Wind         NaN         NaN   \n",
              "905         80.0   24.3500    73.7477         Coal         NaN         NaN   \n",
              "906         16.5    9.9344    77.4768         Wind         NaN         NaN   \n",
              "\n",
              "     ...  year_of_capacity_data  generation_gwh_2013 generation_gwh_2014  \\\n",
              "0    ...                    NaN                  NaN                 NaN   \n",
              "1    ...                    NaN                  NaN                 NaN   \n",
              "2    ...                    NaN                  NaN                 NaN   \n",
              "3    ...                 2019.0                  NaN          617.789264   \n",
              "4    ...                 2019.0                  NaN         3035.550000   \n",
              "..   ...                    ...                  ...                 ...   \n",
              "902  ...                 2019.0                  NaN                 NaN   \n",
              "903  ...                    NaN                  NaN                 NaN   \n",
              "904  ...                    NaN                  NaN                 NaN   \n",
              "905  ...                    NaN                  NaN                 NaN   \n",
              "906  ...                    NaN                  NaN                 NaN   \n",
              "\n",
              "    generation_gwh_2015 generation_gwh_2016 generation_gwh_2017  \\\n",
              "0                   NaN                 NaN                 NaN   \n",
              "1                   NaN                 NaN                 NaN   \n",
              "2                   NaN                 NaN                 NaN   \n",
              "3            843.747000          886.004428          663.774500   \n",
              "4           5916.370000         6243.000000         5385.579736   \n",
              "..                  ...                 ...                 ...   \n",
              "902            0.994875          233.596650          865.400000   \n",
              "903                 NaN                 NaN                 NaN   \n",
              "904                 NaN                 NaN                 NaN   \n",
              "905                 NaN                 NaN                 NaN   \n",
              "906                 NaN                 NaN                 NaN   \n",
              "\n",
              "     generation_gwh_2018  generation_gwh_2019         generation_data_source  \\\n",
              "0                    NaN                  NaN                            NaN   \n",
              "1                    NaN                  NaN                            NaN   \n",
              "2                    NaN                  NaN                            NaN   \n",
              "3             626.239128                  NaN  Central Electricity Authority   \n",
              "4            7279.000000                  NaN  Central Electricity Authority   \n",
              "..                   ...                  ...                            ...   \n",
              "902           686.500000                  NaN  Central Electricity Authority   \n",
              "903                  NaN                  NaN                            NaN   \n",
              "904                  NaN                  NaN                            NaN   \n",
              "905                  NaN                  NaN                            NaN   \n",
              "906                  NaN                  NaN                            NaN   \n",
              "\n",
              "     estimated_generation_gwh  \n",
              "0                         NaN  \n",
              "1                         NaN  \n",
              "2                         NaN  \n",
              "3                         NaN  \n",
              "4                         NaN  \n",
              "..                        ...  \n",
              "902                       NaN  \n",
              "903                       NaN  \n",
              "904                       NaN  \n",
              "905                       NaN  \n",
              "906                       NaN  \n",
              "\n",
              "[907 rows x 27 columns]"
            ],
            "text/html": [
              "\n",
              "  <div id=\"df-d354f43f-3ec3-4d60-af02-3be998684533\">\n",
              "    <div class=\"colab-df-container\">\n",
              "      <div>\n",
              "<style scoped>\n",
              "    .dataframe tbody tr th:only-of-type {\n",
              "        vertical-align: middle;\n",
              "    }\n",
              "\n",
              "    .dataframe tbody tr th {\n",
              "        vertical-align: top;\n",
              "    }\n",
              "\n",
              "    .dataframe thead th {\n",
              "        text-align: right;\n",
              "    }\n",
              "</style>\n",
              "<table border=\"1\" class=\"dataframe\">\n",
              "  <thead>\n",
              "    <tr style=\"text-align: right;\">\n",
              "      <th></th>\n",
              "      <th>country</th>\n",
              "      <th>country_long</th>\n",
              "      <th>name</th>\n",
              "      <th>gppd_idnr</th>\n",
              "      <th>capacity_mw</th>\n",
              "      <th>latitude</th>\n",
              "      <th>longitude</th>\n",
              "      <th>primary_fuel</th>\n",
              "      <th>other_fuel1</th>\n",
              "      <th>other_fuel2</th>\n",
              "      <th>...</th>\n",
              "      <th>year_of_capacity_data</th>\n",
              "      <th>generation_gwh_2013</th>\n",
              "      <th>generation_gwh_2014</th>\n",
              "      <th>generation_gwh_2015</th>\n",
              "      <th>generation_gwh_2016</th>\n",
              "      <th>generation_gwh_2017</th>\n",
              "      <th>generation_gwh_2018</th>\n",
              "      <th>generation_gwh_2019</th>\n",
              "      <th>generation_data_source</th>\n",
              "      <th>estimated_generation_gwh</th>\n",
              "    </tr>\n",
              "  </thead>\n",
              "  <tbody>\n",
              "    <tr>\n",
              "      <th>0</th>\n",
              "      <td>IND</td>\n",
              "      <td>India</td>\n",
              "      <td>ACME Solar Tower</td>\n",
              "      <td>WRI1020239</td>\n",
              "      <td>2.5</td>\n",
              "      <td>28.1839</td>\n",
              "      <td>73.2407</td>\n",
              "      <td>Solar</td>\n",
              "      <td>NaN</td>\n",
              "      <td>NaN</td>\n",
              "      <td>...</td>\n",
              "      <td>NaN</td>\n",
              "      <td>NaN</td>\n",
              "      <td>NaN</td>\n",
              "      <td>NaN</td>\n",
              "      <td>NaN</td>\n",
              "      <td>NaN</td>\n",
              "      <td>NaN</td>\n",
              "      <td>NaN</td>\n",
              "      <td>NaN</td>\n",
              "      <td>NaN</td>\n",
              "    </tr>\n",
              "    <tr>\n",
              "      <th>1</th>\n",
              "      <td>IND</td>\n",
              "      <td>India</td>\n",
              "      <td>ADITYA CEMENT WORKS</td>\n",
              "      <td>WRI1019881</td>\n",
              "      <td>98.0</td>\n",
              "      <td>24.7663</td>\n",
              "      <td>74.6090</td>\n",
              "      <td>Coal</td>\n",
              "      <td>NaN</td>\n",
              "      <td>NaN</td>\n",
              "      <td>...</td>\n",
              "      <td>NaN</td>\n",
              "      <td>NaN</td>\n",
              "      <td>NaN</td>\n",
              "      <td>NaN</td>\n",
              "      <td>NaN</td>\n",
              "      <td>NaN</td>\n",
              "      <td>NaN</td>\n",
              "      <td>NaN</td>\n",
              "      <td>NaN</td>\n",
              "      <td>NaN</td>\n",
              "    </tr>\n",
              "    <tr>\n",
              "      <th>2</th>\n",
              "      <td>IND</td>\n",
              "      <td>India</td>\n",
              "      <td>AES Saurashtra Windfarms</td>\n",
              "      <td>WRI1026669</td>\n",
              "      <td>39.2</td>\n",
              "      <td>21.9038</td>\n",
              "      <td>69.3732</td>\n",
              "      <td>Wind</td>\n",
              "      <td>NaN</td>\n",
              "      <td>NaN</td>\n",
              "      <td>...</td>\n",
              "      <td>NaN</td>\n",
              "      <td>NaN</td>\n",
              "      <td>NaN</td>\n",
              "      <td>NaN</td>\n",
              "      <td>NaN</td>\n",
              "      <td>NaN</td>\n",
              "      <td>NaN</td>\n",
              "      <td>NaN</td>\n",
              "      <td>NaN</td>\n",
              "      <td>NaN</td>\n",
              "    </tr>\n",
              "    <tr>\n",
              "      <th>3</th>\n",
              "      <td>IND</td>\n",
              "      <td>India</td>\n",
              "      <td>AGARTALA GT</td>\n",
              "      <td>IND0000001</td>\n",
              "      <td>135.0</td>\n",
              "      <td>23.8712</td>\n",
              "      <td>91.3602</td>\n",
              "      <td>Gas</td>\n",
              "      <td>NaN</td>\n",
              "      <td>NaN</td>\n",
              "      <td>...</td>\n",
              "      <td>2019.0</td>\n",
              "      <td>NaN</td>\n",
              "      <td>617.789264</td>\n",
              "      <td>843.747000</td>\n",
              "      <td>886.004428</td>\n",
              "      <td>663.774500</td>\n",
              "      <td>626.239128</td>\n",
              "      <td>NaN</td>\n",
              "      <td>Central Electricity Authority</td>\n",
              "      <td>NaN</td>\n",
              "    </tr>\n",
              "    <tr>\n",
              "      <th>4</th>\n",
              "      <td>IND</td>\n",
              "      <td>India</td>\n",
              "      <td>AKALTARA TPP</td>\n",
              "      <td>IND0000002</td>\n",
              "      <td>1800.0</td>\n",
              "      <td>21.9603</td>\n",
              "      <td>82.4091</td>\n",
              "      <td>Coal</td>\n",
              "      <td>Oil</td>\n",
              "      <td>NaN</td>\n",
              "      <td>...</td>\n",
              "      <td>2019.0</td>\n",
              "      <td>NaN</td>\n",
              "      <td>3035.550000</td>\n",
              "      <td>5916.370000</td>\n",
              "      <td>6243.000000</td>\n",
              "      <td>5385.579736</td>\n",
              "      <td>7279.000000</td>\n",
              "      <td>NaN</td>\n",
              "      <td>Central Electricity Authority</td>\n",
              "      <td>NaN</td>\n",
              "    </tr>\n",
              "    <tr>\n",
              "      <th>...</th>\n",
              "      <td>...</td>\n",
              "      <td>...</td>\n",
              "      <td>...</td>\n",
              "      <td>...</td>\n",
              "      <td>...</td>\n",
              "      <td>...</td>\n",
              "      <td>...</td>\n",
              "      <td>...</td>\n",
              "      <td>...</td>\n",
              "      <td>...</td>\n",
              "      <td>...</td>\n",
              "      <td>...</td>\n",
              "      <td>...</td>\n",
              "      <td>...</td>\n",
              "      <td>...</td>\n",
              "      <td>...</td>\n",
              "      <td>...</td>\n",
              "      <td>...</td>\n",
              "      <td>...</td>\n",
              "      <td>...</td>\n",
              "      <td>...</td>\n",
              "    </tr>\n",
              "    <tr>\n",
              "      <th>902</th>\n",
              "      <td>IND</td>\n",
              "      <td>India</td>\n",
              "      <td>YERMARUS TPP</td>\n",
              "      <td>IND0000513</td>\n",
              "      <td>1600.0</td>\n",
              "      <td>16.2949</td>\n",
              "      <td>77.3568</td>\n",
              "      <td>Coal</td>\n",
              "      <td>Oil</td>\n",
              "      <td>NaN</td>\n",
              "      <td>...</td>\n",
              "      <td>2019.0</td>\n",
              "      <td>NaN</td>\n",
              "      <td>NaN</td>\n",
              "      <td>0.994875</td>\n",
              "      <td>233.596650</td>\n",
              "      <td>865.400000</td>\n",
              "      <td>686.500000</td>\n",
              "      <td>NaN</td>\n",
              "      <td>Central Electricity Authority</td>\n",
              "      <td>NaN</td>\n",
              "    </tr>\n",
              "    <tr>\n",
              "      <th>903</th>\n",
              "      <td>IND</td>\n",
              "      <td>India</td>\n",
              "      <td>Yelesandra Solar Power Plant</td>\n",
              "      <td>WRI1026222</td>\n",
              "      <td>3.0</td>\n",
              "      <td>12.8932</td>\n",
              "      <td>78.1654</td>\n",
              "      <td>Solar</td>\n",
              "      <td>NaN</td>\n",
              "      <td>NaN</td>\n",
              "      <td>...</td>\n",
              "      <td>NaN</td>\n",
              "      <td>NaN</td>\n",
              "      <td>NaN</td>\n",
              "      <td>NaN</td>\n",
              "      <td>NaN</td>\n",
              "      <td>NaN</td>\n",
              "      <td>NaN</td>\n",
              "      <td>NaN</td>\n",
              "      <td>NaN</td>\n",
              "      <td>NaN</td>\n",
              "    </tr>\n",
              "    <tr>\n",
              "      <th>904</th>\n",
              "      <td>IND</td>\n",
              "      <td>India</td>\n",
              "      <td>Yelisirur wind power project</td>\n",
              "      <td>WRI1026776</td>\n",
              "      <td>25.5</td>\n",
              "      <td>15.2758</td>\n",
              "      <td>75.5811</td>\n",
              "      <td>Wind</td>\n",
              "      <td>NaN</td>\n",
              "      <td>NaN</td>\n",
              "      <td>...</td>\n",
              "      <td>NaN</td>\n",
              "      <td>NaN</td>\n",
              "      <td>NaN</td>\n",
              "      <td>NaN</td>\n",
              "      <td>NaN</td>\n",
              "      <td>NaN</td>\n",
              "      <td>NaN</td>\n",
              "      <td>NaN</td>\n",
              "      <td>NaN</td>\n",
              "      <td>NaN</td>\n",
              "    </tr>\n",
              "    <tr>\n",
              "      <th>905</th>\n",
              "      <td>IND</td>\n",
              "      <td>India</td>\n",
              "      <td>ZAWAR MINES</td>\n",
              "      <td>WRI1019901</td>\n",
              "      <td>80.0</td>\n",
              "      <td>24.3500</td>\n",
              "      <td>73.7477</td>\n",
              "      <td>Coal</td>\n",
              "      <td>NaN</td>\n",
              "      <td>NaN</td>\n",
              "      <td>...</td>\n",
              "      <td>NaN</td>\n",
              "      <td>NaN</td>\n",
              "      <td>NaN</td>\n",
              "      <td>NaN</td>\n",
              "      <td>NaN</td>\n",
              "      <td>NaN</td>\n",
              "      <td>NaN</td>\n",
              "      <td>NaN</td>\n",
              "      <td>NaN</td>\n",
              "      <td>NaN</td>\n",
              "    </tr>\n",
              "    <tr>\n",
              "      <th>906</th>\n",
              "      <td>IND</td>\n",
              "      <td>India</td>\n",
              "      <td>iEnergy Theni Wind Farm</td>\n",
              "      <td>WRI1026761</td>\n",
              "      <td>16.5</td>\n",
              "      <td>9.9344</td>\n",
              "      <td>77.4768</td>\n",
              "      <td>Wind</td>\n",
              "      <td>NaN</td>\n",
              "      <td>NaN</td>\n",
              "      <td>...</td>\n",
              "      <td>NaN</td>\n",
              "      <td>NaN</td>\n",
              "      <td>NaN</td>\n",
              "      <td>NaN</td>\n",
              "      <td>NaN</td>\n",
              "      <td>NaN</td>\n",
              "      <td>NaN</td>\n",
              "      <td>NaN</td>\n",
              "      <td>NaN</td>\n",
              "      <td>NaN</td>\n",
              "    </tr>\n",
              "  </tbody>\n",
              "</table>\n",
              "<p>907 rows × 27 columns</p>\n",
              "</div>\n",
              "      <button class=\"colab-df-convert\" onclick=\"convertToInteractive('df-d354f43f-3ec3-4d60-af02-3be998684533')\"\n",
              "              title=\"Convert this dataframe to an interactive table.\"\n",
              "              style=\"display:none;\">\n",
              "        \n",
              "  <svg xmlns=\"http://www.w3.org/2000/svg\" height=\"24px\"viewBox=\"0 0 24 24\"\n",
              "       width=\"24px\">\n",
              "    <path d=\"M0 0h24v24H0V0z\" fill=\"none\"/>\n",
              "    <path d=\"M18.56 5.44l.94 2.06.94-2.06 2.06-.94-2.06-.94-.94-2.06-.94 2.06-2.06.94zm-11 1L8.5 8.5l.94-2.06 2.06-.94-2.06-.94L8.5 2.5l-.94 2.06-2.06.94zm10 10l.94 2.06.94-2.06 2.06-.94-2.06-.94-.94-2.06-.94 2.06-2.06.94z\"/><path d=\"M17.41 7.96l-1.37-1.37c-.4-.4-.92-.59-1.43-.59-.52 0-1.04.2-1.43.59L10.3 9.45l-7.72 7.72c-.78.78-.78 2.05 0 2.83L4 21.41c.39.39.9.59 1.41.59.51 0 1.02-.2 1.41-.59l7.78-7.78 2.81-2.81c.8-.78.8-2.07 0-2.86zM5.41 20L4 18.59l7.72-7.72 1.47 1.35L5.41 20z\"/>\n",
              "  </svg>\n",
              "      </button>\n",
              "      \n",
              "  <style>\n",
              "    .colab-df-container {\n",
              "      display:flex;\n",
              "      flex-wrap:wrap;\n",
              "      gap: 12px;\n",
              "    }\n",
              "\n",
              "    .colab-df-convert {\n",
              "      background-color: #E8F0FE;\n",
              "      border: none;\n",
              "      border-radius: 50%;\n",
              "      cursor: pointer;\n",
              "      display: none;\n",
              "      fill: #1967D2;\n",
              "      height: 32px;\n",
              "      padding: 0 0 0 0;\n",
              "      width: 32px;\n",
              "    }\n",
              "\n",
              "    .colab-df-convert:hover {\n",
              "      background-color: #E2EBFA;\n",
              "      box-shadow: 0px 1px 2px rgba(60, 64, 67, 0.3), 0px 1px 3px 1px rgba(60, 64, 67, 0.15);\n",
              "      fill: #174EA6;\n",
              "    }\n",
              "\n",
              "    [theme=dark] .colab-df-convert {\n",
              "      background-color: #3B4455;\n",
              "      fill: #D2E3FC;\n",
              "    }\n",
              "\n",
              "    [theme=dark] .colab-df-convert:hover {\n",
              "      background-color: #434B5C;\n",
              "      box-shadow: 0px 1px 3px 1px rgba(0, 0, 0, 0.15);\n",
              "      filter: drop-shadow(0px 1px 2px rgba(0, 0, 0, 0.3));\n",
              "      fill: #FFFFFF;\n",
              "    }\n",
              "  </style>\n",
              "\n",
              "      <script>\n",
              "        const buttonEl =\n",
              "          document.querySelector('#df-d354f43f-3ec3-4d60-af02-3be998684533 button.colab-df-convert');\n",
              "        buttonEl.style.display =\n",
              "          google.colab.kernel.accessAllowed ? 'block' : 'none';\n",
              "\n",
              "        async function convertToInteractive(key) {\n",
              "          const element = document.querySelector('#df-d354f43f-3ec3-4d60-af02-3be998684533');\n",
              "          const dataTable =\n",
              "            await google.colab.kernel.invokeFunction('convertToInteractive',\n",
              "                                                     [key], {});\n",
              "          if (!dataTable) return;\n",
              "\n",
              "          const docLinkHtml = 'Like what you see? Visit the ' +\n",
              "            '<a target=\"_blank\" href=https://colab.research.google.com/notebooks/data_table.ipynb>data table notebook</a>'\n",
              "            + ' to learn more about interactive tables.';\n",
              "          element.innerHTML = '';\n",
              "          dataTable['output_type'] = 'display_data';\n",
              "          await google.colab.output.renderOutput(dataTable, element);\n",
              "          const docLink = document.createElement('div');\n",
              "          docLink.innerHTML = docLinkHtml;\n",
              "          element.appendChild(docLink);\n",
              "        }\n",
              "      </script>\n",
              "    </div>\n",
              "  </div>\n",
              "  "
            ]
          },
          "metadata": {},
          "execution_count": 4
        }
      ]
    },
    {
      "cell_type": "code",
      "source": [
        "global_power_plant_raw_df.columns"
      ],
      "metadata": {
        "colab": {
          "base_uri": "https://localhost:8080/"
        },
        "id": "8vkUrJs9vZSh",
        "outputId": "bddcc7a8-5b3f-40a8-882b-5b6123a2b18c"
      },
      "execution_count": 5,
      "outputs": [
        {
          "output_type": "execute_result",
          "data": {
            "text/plain": [
              "Index(['country', 'country_long', 'name', 'gppd_idnr', 'capacity_mw',\n",
              "       'latitude', 'longitude', 'primary_fuel', 'other_fuel1', 'other_fuel2',\n",
              "       'other_fuel3', 'commissioning_year', 'owner', 'source', 'url',\n",
              "       'geolocation_source', 'wepp_id', 'year_of_capacity_data',\n",
              "       'generation_gwh_2013', 'generation_gwh_2014', 'generation_gwh_2015',\n",
              "       'generation_gwh_2016', 'generation_gwh_2017', 'generation_gwh_2018',\n",
              "       'generation_gwh_2019', 'generation_data_source',\n",
              "       'estimated_generation_gwh'],\n",
              "      dtype='object')"
            ]
          },
          "metadata": {},
          "execution_count": 5
        }
      ]
    },
    {
      "cell_type": "code",
      "source": [
        "global_power_plant_raw_df.info()\n"
      ],
      "metadata": {
        "colab": {
          "base_uri": "https://localhost:8080/"
        },
        "id": "YHUq03k1G8Aa",
        "outputId": "f9f3d801-0fbd-4eeb-d0de-f27e0a671a9c"
      },
      "execution_count": 6,
      "outputs": [
        {
          "output_type": "stream",
          "name": "stdout",
          "text": [
            "<class 'pandas.core.frame.DataFrame'>\n",
            "RangeIndex: 907 entries, 0 to 906\n",
            "Data columns (total 27 columns):\n",
            " #   Column                    Non-Null Count  Dtype  \n",
            "---  ------                    --------------  -----  \n",
            " 0   country                   907 non-null    object \n",
            " 1   country_long              907 non-null    object \n",
            " 2   name                      907 non-null    object \n",
            " 3   gppd_idnr                 907 non-null    object \n",
            " 4   capacity_mw               907 non-null    float64\n",
            " 5   latitude                  861 non-null    float64\n",
            " 6   longitude                 861 non-null    float64\n",
            " 7   primary_fuel              907 non-null    object \n",
            " 8   other_fuel1               198 non-null    object \n",
            " 9   other_fuel2               1 non-null      object \n",
            " 10  other_fuel3               0 non-null      float64\n",
            " 11  commissioning_year        527 non-null    float64\n",
            " 12  owner                     342 non-null    object \n",
            " 13  source                    907 non-null    object \n",
            " 14  url                       907 non-null    object \n",
            " 15  geolocation_source        888 non-null    object \n",
            " 16  wepp_id                   0 non-null      float64\n",
            " 17  year_of_capacity_data     519 non-null    float64\n",
            " 18  generation_gwh_2013       0 non-null      float64\n",
            " 19  generation_gwh_2014       398 non-null    float64\n",
            " 20  generation_gwh_2015       422 non-null    float64\n",
            " 21  generation_gwh_2016       434 non-null    float64\n",
            " 22  generation_gwh_2017       440 non-null    float64\n",
            " 23  generation_gwh_2018       448 non-null    float64\n",
            " 24  generation_gwh_2019       0 non-null      float64\n",
            " 25  generation_data_source    449 non-null    object \n",
            " 26  estimated_generation_gwh  0 non-null      float64\n",
            "dtypes: float64(15), object(12)\n",
            "memory usage: 191.4+ KB\n"
          ]
        }
      ]
    },
    {
      "cell_type": "markdown",
      "source": [
        "Using the info() function a short summary of the global power plant dataframe is made and print the information about the datafram including the index dtype and column dtypes, non-null values and memory usage.\n",
        "\n"
      ],
      "metadata": {
        "id": "FtB-LttIG-mO"
      }
    },
    {
      "cell_type": "code",
      "source": [
        "selected_column = [\n",
        "    'country',\n",
        "    'country_long',\n",
        "    'name',\n",
        "    'capacity_mw',\n",
        "    'primary_fuel',\n",
        "    'other_fuel1',\n",
        "    'other_fuel2',\n",
        "    'other_fuel3',\n",
        "    'commissioning_year',\n",
        "    'year_of_capacity_data',\n",
        "    'generation_gwh_2013',\n",
        "    'generation_gwh_2014',\n",
        "    'generation_gwh_2015',\n",
        "    'generation_gwh_2016',\n",
        "    'generation_gwh_2017',\n",
        "    'estimated_generation_gwh'\n",
        "]"
      ],
      "metadata": {
        "id": "UCh_1eG4G79D"
      },
      "execution_count": 7,
      "outputs": []
    },
    {
      "cell_type": "markdown",
      "source": [
        "The global database of power plants contains a lot of resources, but in this step we are going to restrict the study of columns, such as the type of use of fuel, plants belong to which country, year of the plant operation, estimate generation of power plant, etc. There are 16 columns that have been chosen for review."
      ],
      "metadata": {
        "id": "aqCEDY2IHEgL"
      }
    },
    {
      "cell_type": "code",
      "source": [
        "len(selected_column)\n"
      ],
      "metadata": {
        "colab": {
          "base_uri": "https://localhost:8080/"
        },
        "id": "YM9jY4hDG76e",
        "outputId": "2b858bc1-1e87-43af-a20f-450811fa944e"
      },
      "execution_count": 8,
      "outputs": [
        {
          "output_type": "execute_result",
          "data": {
            "text/plain": [
              "16"
            ]
          },
          "metadata": {},
          "execution_count": 8
        }
      ]
    },
    {
      "cell_type": "code",
      "source": [
        "global_power_plant_df = global_power_plant_raw_df[selected_column].copy()\n"
      ],
      "metadata": {
        "id": "vsEotFB0G72X"
      },
      "execution_count": 9,
      "outputs": []
    },
    {
      "cell_type": "code",
      "source": [
        "global_power_plant_df.sample(5)\n"
      ],
      "metadata": {
        "colab": {
          "base_uri": "https://localhost:8080/",
          "height": 357
        },
        "id": "9R8QQwQiHHmk",
        "outputId": "ab76b2c9-cf78-4b37-cd38-f6cce49989ea"
      },
      "execution_count": 10,
      "outputs": [
        {
          "output_type": "execute_result",
          "data": {
            "text/plain": [
              "    country country_long                     name  capacity_mw primary_fuel  \\\n",
              "878     IND        India            VIJESWARAM GT        272.3          Gas   \n",
              "199     IND        India                  Diwakar        100.0        Solar   \n",
              "848     IND        India              UMTRU (NEW)         11.2        Hydro   \n",
              "426     IND        India  LOKMANGAL SUGAR ETHANOL         31.5      Biomass   \n",
              "496     IND        India        MUNOLI DISTILLERY         11.2      Biomass   \n",
              "\n",
              "    other_fuel1 other_fuel2  other_fuel3  commissioning_year  \\\n",
              "878         NaN         NaN          NaN              1995.0   \n",
              "199         NaN         NaN          NaN              2013.0   \n",
              "848         NaN         NaN          NaN              1957.0   \n",
              "426         NaN         NaN          NaN                 NaN   \n",
              "496         NaN         NaN          NaN                 NaN   \n",
              "\n",
              "     year_of_capacity_data  generation_gwh_2013  generation_gwh_2014  \\\n",
              "878                 2019.0                  NaN             638.9885   \n",
              "199                    NaN                  NaN                  NaN   \n",
              "848                 2019.0                  NaN                  NaN   \n",
              "426                    NaN                  NaN                  NaN   \n",
              "496                    NaN                  NaN                  NaN   \n",
              "\n",
              "     generation_gwh_2015  generation_gwh_2016  generation_gwh_2017  \\\n",
              "878           693.874313           669.578138          1156.305799   \n",
              "199                  NaN                  NaN                  NaN   \n",
              "848                  NaN                  NaN                  NaN   \n",
              "426                  NaN                  NaN                  NaN   \n",
              "496                  NaN                  NaN                  NaN   \n",
              "\n",
              "     estimated_generation_gwh  \n",
              "878                       NaN  \n",
              "199                       NaN  \n",
              "848                       NaN  \n",
              "426                       NaN  \n",
              "496                       NaN  "
            ],
            "text/html": [
              "\n",
              "  <div id=\"df-05c85992-0068-49ed-bc8a-733dbb98bff7\">\n",
              "    <div class=\"colab-df-container\">\n",
              "      <div>\n",
              "<style scoped>\n",
              "    .dataframe tbody tr th:only-of-type {\n",
              "        vertical-align: middle;\n",
              "    }\n",
              "\n",
              "    .dataframe tbody tr th {\n",
              "        vertical-align: top;\n",
              "    }\n",
              "\n",
              "    .dataframe thead th {\n",
              "        text-align: right;\n",
              "    }\n",
              "</style>\n",
              "<table border=\"1\" class=\"dataframe\">\n",
              "  <thead>\n",
              "    <tr style=\"text-align: right;\">\n",
              "      <th></th>\n",
              "      <th>country</th>\n",
              "      <th>country_long</th>\n",
              "      <th>name</th>\n",
              "      <th>capacity_mw</th>\n",
              "      <th>primary_fuel</th>\n",
              "      <th>other_fuel1</th>\n",
              "      <th>other_fuel2</th>\n",
              "      <th>other_fuel3</th>\n",
              "      <th>commissioning_year</th>\n",
              "      <th>year_of_capacity_data</th>\n",
              "      <th>generation_gwh_2013</th>\n",
              "      <th>generation_gwh_2014</th>\n",
              "      <th>generation_gwh_2015</th>\n",
              "      <th>generation_gwh_2016</th>\n",
              "      <th>generation_gwh_2017</th>\n",
              "      <th>estimated_generation_gwh</th>\n",
              "    </tr>\n",
              "  </thead>\n",
              "  <tbody>\n",
              "    <tr>\n",
              "      <th>878</th>\n",
              "      <td>IND</td>\n",
              "      <td>India</td>\n",
              "      <td>VIJESWARAM GT</td>\n",
              "      <td>272.3</td>\n",
              "      <td>Gas</td>\n",
              "      <td>NaN</td>\n",
              "      <td>NaN</td>\n",
              "      <td>NaN</td>\n",
              "      <td>1995.0</td>\n",
              "      <td>2019.0</td>\n",
              "      <td>NaN</td>\n",
              "      <td>638.9885</td>\n",
              "      <td>693.874313</td>\n",
              "      <td>669.578138</td>\n",
              "      <td>1156.305799</td>\n",
              "      <td>NaN</td>\n",
              "    </tr>\n",
              "    <tr>\n",
              "      <th>199</th>\n",
              "      <td>IND</td>\n",
              "      <td>India</td>\n",
              "      <td>Diwakar</td>\n",
              "      <td>100.0</td>\n",
              "      <td>Solar</td>\n",
              "      <td>NaN</td>\n",
              "      <td>NaN</td>\n",
              "      <td>NaN</td>\n",
              "      <td>2013.0</td>\n",
              "      <td>NaN</td>\n",
              "      <td>NaN</td>\n",
              "      <td>NaN</td>\n",
              "      <td>NaN</td>\n",
              "      <td>NaN</td>\n",
              "      <td>NaN</td>\n",
              "      <td>NaN</td>\n",
              "    </tr>\n",
              "    <tr>\n",
              "      <th>848</th>\n",
              "      <td>IND</td>\n",
              "      <td>India</td>\n",
              "      <td>UMTRU (NEW)</td>\n",
              "      <td>11.2</td>\n",
              "      <td>Hydro</td>\n",
              "      <td>NaN</td>\n",
              "      <td>NaN</td>\n",
              "      <td>NaN</td>\n",
              "      <td>1957.0</td>\n",
              "      <td>2019.0</td>\n",
              "      <td>NaN</td>\n",
              "      <td>NaN</td>\n",
              "      <td>NaN</td>\n",
              "      <td>NaN</td>\n",
              "      <td>NaN</td>\n",
              "      <td>NaN</td>\n",
              "    </tr>\n",
              "    <tr>\n",
              "      <th>426</th>\n",
              "      <td>IND</td>\n",
              "      <td>India</td>\n",
              "      <td>LOKMANGAL SUGAR ETHANOL</td>\n",
              "      <td>31.5</td>\n",
              "      <td>Biomass</td>\n",
              "      <td>NaN</td>\n",
              "      <td>NaN</td>\n",
              "      <td>NaN</td>\n",
              "      <td>NaN</td>\n",
              "      <td>NaN</td>\n",
              "      <td>NaN</td>\n",
              "      <td>NaN</td>\n",
              "      <td>NaN</td>\n",
              "      <td>NaN</td>\n",
              "      <td>NaN</td>\n",
              "      <td>NaN</td>\n",
              "    </tr>\n",
              "    <tr>\n",
              "      <th>496</th>\n",
              "      <td>IND</td>\n",
              "      <td>India</td>\n",
              "      <td>MUNOLI DISTILLERY</td>\n",
              "      <td>11.2</td>\n",
              "      <td>Biomass</td>\n",
              "      <td>NaN</td>\n",
              "      <td>NaN</td>\n",
              "      <td>NaN</td>\n",
              "      <td>NaN</td>\n",
              "      <td>NaN</td>\n",
              "      <td>NaN</td>\n",
              "      <td>NaN</td>\n",
              "      <td>NaN</td>\n",
              "      <td>NaN</td>\n",
              "      <td>NaN</td>\n",
              "      <td>NaN</td>\n",
              "    </tr>\n",
              "  </tbody>\n",
              "</table>\n",
              "</div>\n",
              "      <button class=\"colab-df-convert\" onclick=\"convertToInteractive('df-05c85992-0068-49ed-bc8a-733dbb98bff7')\"\n",
              "              title=\"Convert this dataframe to an interactive table.\"\n",
              "              style=\"display:none;\">\n",
              "        \n",
              "  <svg xmlns=\"http://www.w3.org/2000/svg\" height=\"24px\"viewBox=\"0 0 24 24\"\n",
              "       width=\"24px\">\n",
              "    <path d=\"M0 0h24v24H0V0z\" fill=\"none\"/>\n",
              "    <path d=\"M18.56 5.44l.94 2.06.94-2.06 2.06-.94-2.06-.94-.94-2.06-.94 2.06-2.06.94zm-11 1L8.5 8.5l.94-2.06 2.06-.94-2.06-.94L8.5 2.5l-.94 2.06-2.06.94zm10 10l.94 2.06.94-2.06 2.06-.94-2.06-.94-.94-2.06-.94 2.06-2.06.94z\"/><path d=\"M17.41 7.96l-1.37-1.37c-.4-.4-.92-.59-1.43-.59-.52 0-1.04.2-1.43.59L10.3 9.45l-7.72 7.72c-.78.78-.78 2.05 0 2.83L4 21.41c.39.39.9.59 1.41.59.51 0 1.02-.2 1.41-.59l7.78-7.78 2.81-2.81c.8-.78.8-2.07 0-2.86zM5.41 20L4 18.59l7.72-7.72 1.47 1.35L5.41 20z\"/>\n",
              "  </svg>\n",
              "      </button>\n",
              "      \n",
              "  <style>\n",
              "    .colab-df-container {\n",
              "      display:flex;\n",
              "      flex-wrap:wrap;\n",
              "      gap: 12px;\n",
              "    }\n",
              "\n",
              "    .colab-df-convert {\n",
              "      background-color: #E8F0FE;\n",
              "      border: none;\n",
              "      border-radius: 50%;\n",
              "      cursor: pointer;\n",
              "      display: none;\n",
              "      fill: #1967D2;\n",
              "      height: 32px;\n",
              "      padding: 0 0 0 0;\n",
              "      width: 32px;\n",
              "    }\n",
              "\n",
              "    .colab-df-convert:hover {\n",
              "      background-color: #E2EBFA;\n",
              "      box-shadow: 0px 1px 2px rgba(60, 64, 67, 0.3), 0px 1px 3px 1px rgba(60, 64, 67, 0.15);\n",
              "      fill: #174EA6;\n",
              "    }\n",
              "\n",
              "    [theme=dark] .colab-df-convert {\n",
              "      background-color: #3B4455;\n",
              "      fill: #D2E3FC;\n",
              "    }\n",
              "\n",
              "    [theme=dark] .colab-df-convert:hover {\n",
              "      background-color: #434B5C;\n",
              "      box-shadow: 0px 1px 3px 1px rgba(0, 0, 0, 0.15);\n",
              "      filter: drop-shadow(0px 1px 2px rgba(0, 0, 0, 0.3));\n",
              "      fill: #FFFFFF;\n",
              "    }\n",
              "  </style>\n",
              "\n",
              "      <script>\n",
              "        const buttonEl =\n",
              "          document.querySelector('#df-05c85992-0068-49ed-bc8a-733dbb98bff7 button.colab-df-convert');\n",
              "        buttonEl.style.display =\n",
              "          google.colab.kernel.accessAllowed ? 'block' : 'none';\n",
              "\n",
              "        async function convertToInteractive(key) {\n",
              "          const element = document.querySelector('#df-05c85992-0068-49ed-bc8a-733dbb98bff7');\n",
              "          const dataTable =\n",
              "            await google.colab.kernel.invokeFunction('convertToInteractive',\n",
              "                                                     [key], {});\n",
              "          if (!dataTable) return;\n",
              "\n",
              "          const docLinkHtml = 'Like what you see? Visit the ' +\n",
              "            '<a target=\"_blank\" href=https://colab.research.google.com/notebooks/data_table.ipynb>data table notebook</a>'\n",
              "            + ' to learn more about interactive tables.';\n",
              "          element.innerHTML = '';\n",
              "          dataTable['output_type'] = 'display_data';\n",
              "          await google.colab.output.renderOutput(dataTable, element);\n",
              "          const docLink = document.createElement('div');\n",
              "          docLink.innerHTML = docLinkHtml;\n",
              "          element.appendChild(docLink);\n",
              "        }\n",
              "      </script>\n",
              "    </div>\n",
              "  </div>\n",
              "  "
            ]
          },
          "metadata": {},
          "execution_count": 10
        }
      ]
    },
    {
      "cell_type": "markdown",
      "source": [
        "Using sample(x) method x random row of power plants data from the datafram are shown.\n",
        "\n"
      ],
      "metadata": {
        "id": "wEpaMqmDHLjK"
      }
    },
    {
      "cell_type": "code",
      "source": [
        "global_power_plant_df.describe()\n"
      ],
      "metadata": {
        "colab": {
          "base_uri": "https://localhost:8080/",
          "height": 364
        },
        "id": "ChJiIvu7HJXC",
        "outputId": "3a79bc1f-3148-4d19-9641-e1bbe3b67809"
      },
      "execution_count": 11,
      "outputs": [
        {
          "output_type": "execute_result",
          "data": {
            "text/plain": [
              "       capacity_mw  other_fuel3  commissioning_year  year_of_capacity_data  \\\n",
              "count   907.000000          0.0          527.000000                  519.0   \n",
              "mean    326.223755          NaN         1997.091082                 2019.0   \n",
              "std     590.085456          NaN           17.082868                    0.0   \n",
              "min       0.000000          NaN         1927.000000                 2019.0   \n",
              "25%      16.725000          NaN         1988.000000                 2019.0   \n",
              "50%      59.200000          NaN         2001.000000                 2019.0   \n",
              "75%     385.250000          NaN         2012.000000                 2019.0   \n",
              "max    4760.000000          NaN         2018.000000                 2019.0   \n",
              "\n",
              "       generation_gwh_2013  generation_gwh_2014  generation_gwh_2015  \\\n",
              "count                  0.0           398.000000           422.000000   \n",
              "mean                   NaN          2431.823590          2428.226946   \n",
              "std                    NaN          4026.440035          4194.596959   \n",
              "min                    NaN             0.000000             0.000000   \n",
              "25%                    NaN           223.557672           176.381063   \n",
              "50%                    NaN           801.123775           711.181225   \n",
              "75%                    NaN          3035.306250          3084.121250   \n",
              "max                    NaN         28127.000000         30539.000000   \n",
              "\n",
              "       generation_gwh_2016  generation_gwh_2017  estimated_generation_gwh  \n",
              "count           434.000000           440.000000                       0.0  \n",
              "mean           2467.936859          2547.759305                       NaN  \n",
              "std            4162.884308          4196.991169                       NaN  \n",
              "min               0.000000             0.000000                       NaN  \n",
              "25%             188.285252           177.874930                       NaN  \n",
              "50%             737.205450           817.977250                       NaN  \n",
              "75%            3282.861313          3275.690475                       NaN  \n",
              "max           30015.000000         35116.000000                       NaN  "
            ],
            "text/html": [
              "\n",
              "  <div id=\"df-02ee256b-8747-465a-80af-7be02f39b50d\">\n",
              "    <div class=\"colab-df-container\">\n",
              "      <div>\n",
              "<style scoped>\n",
              "    .dataframe tbody tr th:only-of-type {\n",
              "        vertical-align: middle;\n",
              "    }\n",
              "\n",
              "    .dataframe tbody tr th {\n",
              "        vertical-align: top;\n",
              "    }\n",
              "\n",
              "    .dataframe thead th {\n",
              "        text-align: right;\n",
              "    }\n",
              "</style>\n",
              "<table border=\"1\" class=\"dataframe\">\n",
              "  <thead>\n",
              "    <tr style=\"text-align: right;\">\n",
              "      <th></th>\n",
              "      <th>capacity_mw</th>\n",
              "      <th>other_fuel3</th>\n",
              "      <th>commissioning_year</th>\n",
              "      <th>year_of_capacity_data</th>\n",
              "      <th>generation_gwh_2013</th>\n",
              "      <th>generation_gwh_2014</th>\n",
              "      <th>generation_gwh_2015</th>\n",
              "      <th>generation_gwh_2016</th>\n",
              "      <th>generation_gwh_2017</th>\n",
              "      <th>estimated_generation_gwh</th>\n",
              "    </tr>\n",
              "  </thead>\n",
              "  <tbody>\n",
              "    <tr>\n",
              "      <th>count</th>\n",
              "      <td>907.000000</td>\n",
              "      <td>0.0</td>\n",
              "      <td>527.000000</td>\n",
              "      <td>519.0</td>\n",
              "      <td>0.0</td>\n",
              "      <td>398.000000</td>\n",
              "      <td>422.000000</td>\n",
              "      <td>434.000000</td>\n",
              "      <td>440.000000</td>\n",
              "      <td>0.0</td>\n",
              "    </tr>\n",
              "    <tr>\n",
              "      <th>mean</th>\n",
              "      <td>326.223755</td>\n",
              "      <td>NaN</td>\n",
              "      <td>1997.091082</td>\n",
              "      <td>2019.0</td>\n",
              "      <td>NaN</td>\n",
              "      <td>2431.823590</td>\n",
              "      <td>2428.226946</td>\n",
              "      <td>2467.936859</td>\n",
              "      <td>2547.759305</td>\n",
              "      <td>NaN</td>\n",
              "    </tr>\n",
              "    <tr>\n",
              "      <th>std</th>\n",
              "      <td>590.085456</td>\n",
              "      <td>NaN</td>\n",
              "      <td>17.082868</td>\n",
              "      <td>0.0</td>\n",
              "      <td>NaN</td>\n",
              "      <td>4026.440035</td>\n",
              "      <td>4194.596959</td>\n",
              "      <td>4162.884308</td>\n",
              "      <td>4196.991169</td>\n",
              "      <td>NaN</td>\n",
              "    </tr>\n",
              "    <tr>\n",
              "      <th>min</th>\n",
              "      <td>0.000000</td>\n",
              "      <td>NaN</td>\n",
              "      <td>1927.000000</td>\n",
              "      <td>2019.0</td>\n",
              "      <td>NaN</td>\n",
              "      <td>0.000000</td>\n",
              "      <td>0.000000</td>\n",
              "      <td>0.000000</td>\n",
              "      <td>0.000000</td>\n",
              "      <td>NaN</td>\n",
              "    </tr>\n",
              "    <tr>\n",
              "      <th>25%</th>\n",
              "      <td>16.725000</td>\n",
              "      <td>NaN</td>\n",
              "      <td>1988.000000</td>\n",
              "      <td>2019.0</td>\n",
              "      <td>NaN</td>\n",
              "      <td>223.557672</td>\n",
              "      <td>176.381063</td>\n",
              "      <td>188.285252</td>\n",
              "      <td>177.874930</td>\n",
              "      <td>NaN</td>\n",
              "    </tr>\n",
              "    <tr>\n",
              "      <th>50%</th>\n",
              "      <td>59.200000</td>\n",
              "      <td>NaN</td>\n",
              "      <td>2001.000000</td>\n",
              "      <td>2019.0</td>\n",
              "      <td>NaN</td>\n",
              "      <td>801.123775</td>\n",
              "      <td>711.181225</td>\n",
              "      <td>737.205450</td>\n",
              "      <td>817.977250</td>\n",
              "      <td>NaN</td>\n",
              "    </tr>\n",
              "    <tr>\n",
              "      <th>75%</th>\n",
              "      <td>385.250000</td>\n",
              "      <td>NaN</td>\n",
              "      <td>2012.000000</td>\n",
              "      <td>2019.0</td>\n",
              "      <td>NaN</td>\n",
              "      <td>3035.306250</td>\n",
              "      <td>3084.121250</td>\n",
              "      <td>3282.861313</td>\n",
              "      <td>3275.690475</td>\n",
              "      <td>NaN</td>\n",
              "    </tr>\n",
              "    <tr>\n",
              "      <th>max</th>\n",
              "      <td>4760.000000</td>\n",
              "      <td>NaN</td>\n",
              "      <td>2018.000000</td>\n",
              "      <td>2019.0</td>\n",
              "      <td>NaN</td>\n",
              "      <td>28127.000000</td>\n",
              "      <td>30539.000000</td>\n",
              "      <td>30015.000000</td>\n",
              "      <td>35116.000000</td>\n",
              "      <td>NaN</td>\n",
              "    </tr>\n",
              "  </tbody>\n",
              "</table>\n",
              "</div>\n",
              "      <button class=\"colab-df-convert\" onclick=\"convertToInteractive('df-02ee256b-8747-465a-80af-7be02f39b50d')\"\n",
              "              title=\"Convert this dataframe to an interactive table.\"\n",
              "              style=\"display:none;\">\n",
              "        \n",
              "  <svg xmlns=\"http://www.w3.org/2000/svg\" height=\"24px\"viewBox=\"0 0 24 24\"\n",
              "       width=\"24px\">\n",
              "    <path d=\"M0 0h24v24H0V0z\" fill=\"none\"/>\n",
              "    <path d=\"M18.56 5.44l.94 2.06.94-2.06 2.06-.94-2.06-.94-.94-2.06-.94 2.06-2.06.94zm-11 1L8.5 8.5l.94-2.06 2.06-.94-2.06-.94L8.5 2.5l-.94 2.06-2.06.94zm10 10l.94 2.06.94-2.06 2.06-.94-2.06-.94-.94-2.06-.94 2.06-2.06.94z\"/><path d=\"M17.41 7.96l-1.37-1.37c-.4-.4-.92-.59-1.43-.59-.52 0-1.04.2-1.43.59L10.3 9.45l-7.72 7.72c-.78.78-.78 2.05 0 2.83L4 21.41c.39.39.9.59 1.41.59.51 0 1.02-.2 1.41-.59l7.78-7.78 2.81-2.81c.8-.78.8-2.07 0-2.86zM5.41 20L4 18.59l7.72-7.72 1.47 1.35L5.41 20z\"/>\n",
              "  </svg>\n",
              "      </button>\n",
              "      \n",
              "  <style>\n",
              "    .colab-df-container {\n",
              "      display:flex;\n",
              "      flex-wrap:wrap;\n",
              "      gap: 12px;\n",
              "    }\n",
              "\n",
              "    .colab-df-convert {\n",
              "      background-color: #E8F0FE;\n",
              "      border: none;\n",
              "      border-radius: 50%;\n",
              "      cursor: pointer;\n",
              "      display: none;\n",
              "      fill: #1967D2;\n",
              "      height: 32px;\n",
              "      padding: 0 0 0 0;\n",
              "      width: 32px;\n",
              "    }\n",
              "\n",
              "    .colab-df-convert:hover {\n",
              "      background-color: #E2EBFA;\n",
              "      box-shadow: 0px 1px 2px rgba(60, 64, 67, 0.3), 0px 1px 3px 1px rgba(60, 64, 67, 0.15);\n",
              "      fill: #174EA6;\n",
              "    }\n",
              "\n",
              "    [theme=dark] .colab-df-convert {\n",
              "      background-color: #3B4455;\n",
              "      fill: #D2E3FC;\n",
              "    }\n",
              "\n",
              "    [theme=dark] .colab-df-convert:hover {\n",
              "      background-color: #434B5C;\n",
              "      box-shadow: 0px 1px 3px 1px rgba(0, 0, 0, 0.15);\n",
              "      filter: drop-shadow(0px 1px 2px rgba(0, 0, 0, 0.3));\n",
              "      fill: #FFFFFF;\n",
              "    }\n",
              "  </style>\n",
              "\n",
              "      <script>\n",
              "        const buttonEl =\n",
              "          document.querySelector('#df-02ee256b-8747-465a-80af-7be02f39b50d button.colab-df-convert');\n",
              "        buttonEl.style.display =\n",
              "          google.colab.kernel.accessAllowed ? 'block' : 'none';\n",
              "\n",
              "        async function convertToInteractive(key) {\n",
              "          const element = document.querySelector('#df-02ee256b-8747-465a-80af-7be02f39b50d');\n",
              "          const dataTable =\n",
              "            await google.colab.kernel.invokeFunction('convertToInteractive',\n",
              "                                                     [key], {});\n",
              "          if (!dataTable) return;\n",
              "\n",
              "          const docLinkHtml = 'Like what you see? Visit the ' +\n",
              "            '<a target=\"_blank\" href=https://colab.research.google.com/notebooks/data_table.ipynb>data table notebook</a>'\n",
              "            + ' to learn more about interactive tables.';\n",
              "          element.innerHTML = '';\n",
              "          dataTable['output_type'] = 'display_data';\n",
              "          await google.colab.output.renderOutput(dataTable, element);\n",
              "          const docLink = document.createElement('div');\n",
              "          docLink.innerHTML = docLinkHtml;\n",
              "          element.appendChild(docLink);\n",
              "        }\n",
              "      </script>\n",
              "    </div>\n",
              "  </div>\n",
              "  "
            ]
          },
          "metadata": {},
          "execution_count": 11
        }
      ]
    },
    {
      "cell_type": "markdown",
      "source": [
        "There are some power plants that has negative generation of power. It seems like a mistake in the dataset but there are some power plant those consume more energy than they are produce.\n",
        "\n"
      ],
      "metadata": {
        "id": "4LgcgBzzHO6X"
      }
    },
    {
      "cell_type": "code",
      "source": [
        "global_power_plant_df[global_power_plant_df.generation_gwh_2013 == 0.0]\n"
      ],
      "metadata": {
        "colab": {
          "base_uri": "https://localhost:8080/",
          "height": 114
        },
        "id": "5-Iny_r8HRR8",
        "outputId": "af55de79-cc25-4e06-b712-1983ec2758e6"
      },
      "execution_count": 16,
      "outputs": [
        {
          "output_type": "execute_result",
          "data": {
            "text/plain": [
              "Empty DataFrame\n",
              "Columns: [country, country_long, name, capacity_mw, primary_fuel, other_fuel1, other_fuel2, other_fuel3, commissioning_year, year_of_capacity_data, generation_gwh_2013, generation_gwh_2014, generation_gwh_2015, generation_gwh_2016, generation_gwh_2017, estimated_generation_gwh]\n",
              "Index: []"
            ],
            "text/html": [
              "\n",
              "  <div id=\"df-0221be46-1f53-497a-8105-99992cd1a5e0\">\n",
              "    <div class=\"colab-df-container\">\n",
              "      <div>\n",
              "<style scoped>\n",
              "    .dataframe tbody tr th:only-of-type {\n",
              "        vertical-align: middle;\n",
              "    }\n",
              "\n",
              "    .dataframe tbody tr th {\n",
              "        vertical-align: top;\n",
              "    }\n",
              "\n",
              "    .dataframe thead th {\n",
              "        text-align: right;\n",
              "    }\n",
              "</style>\n",
              "<table border=\"1\" class=\"dataframe\">\n",
              "  <thead>\n",
              "    <tr style=\"text-align: right;\">\n",
              "      <th></th>\n",
              "      <th>country</th>\n",
              "      <th>country_long</th>\n",
              "      <th>name</th>\n",
              "      <th>capacity_mw</th>\n",
              "      <th>primary_fuel</th>\n",
              "      <th>other_fuel1</th>\n",
              "      <th>other_fuel2</th>\n",
              "      <th>other_fuel3</th>\n",
              "      <th>commissioning_year</th>\n",
              "      <th>year_of_capacity_data</th>\n",
              "      <th>generation_gwh_2013</th>\n",
              "      <th>generation_gwh_2014</th>\n",
              "      <th>generation_gwh_2015</th>\n",
              "      <th>generation_gwh_2016</th>\n",
              "      <th>generation_gwh_2017</th>\n",
              "      <th>estimated_generation_gwh</th>\n",
              "    </tr>\n",
              "  </thead>\n",
              "  <tbody>\n",
              "  </tbody>\n",
              "</table>\n",
              "</div>\n",
              "      <button class=\"colab-df-convert\" onclick=\"convertToInteractive('df-0221be46-1f53-497a-8105-99992cd1a5e0')\"\n",
              "              title=\"Convert this dataframe to an interactive table.\"\n",
              "              style=\"display:none;\">\n",
              "        \n",
              "  <svg xmlns=\"http://www.w3.org/2000/svg\" height=\"24px\"viewBox=\"0 0 24 24\"\n",
              "       width=\"24px\">\n",
              "    <path d=\"M0 0h24v24H0V0z\" fill=\"none\"/>\n",
              "    <path d=\"M18.56 5.44l.94 2.06.94-2.06 2.06-.94-2.06-.94-.94-2.06-.94 2.06-2.06.94zm-11 1L8.5 8.5l.94-2.06 2.06-.94-2.06-.94L8.5 2.5l-.94 2.06-2.06.94zm10 10l.94 2.06.94-2.06 2.06-.94-2.06-.94-.94-2.06-.94 2.06-2.06.94z\"/><path d=\"M17.41 7.96l-1.37-1.37c-.4-.4-.92-.59-1.43-.59-.52 0-1.04.2-1.43.59L10.3 9.45l-7.72 7.72c-.78.78-.78 2.05 0 2.83L4 21.41c.39.39.9.59 1.41.59.51 0 1.02-.2 1.41-.59l7.78-7.78 2.81-2.81c.8-.78.8-2.07 0-2.86zM5.41 20L4 18.59l7.72-7.72 1.47 1.35L5.41 20z\"/>\n",
              "  </svg>\n",
              "      </button>\n",
              "      \n",
              "  <style>\n",
              "    .colab-df-container {\n",
              "      display:flex;\n",
              "      flex-wrap:wrap;\n",
              "      gap: 12px;\n",
              "    }\n",
              "\n",
              "    .colab-df-convert {\n",
              "      background-color: #E8F0FE;\n",
              "      border: none;\n",
              "      border-radius: 50%;\n",
              "      cursor: pointer;\n",
              "      display: none;\n",
              "      fill: #1967D2;\n",
              "      height: 32px;\n",
              "      padding: 0 0 0 0;\n",
              "      width: 32px;\n",
              "    }\n",
              "\n",
              "    .colab-df-convert:hover {\n",
              "      background-color: #E2EBFA;\n",
              "      box-shadow: 0px 1px 2px rgba(60, 64, 67, 0.3), 0px 1px 3px 1px rgba(60, 64, 67, 0.15);\n",
              "      fill: #174EA6;\n",
              "    }\n",
              "\n",
              "    [theme=dark] .colab-df-convert {\n",
              "      background-color: #3B4455;\n",
              "      fill: #D2E3FC;\n",
              "    }\n",
              "\n",
              "    [theme=dark] .colab-df-convert:hover {\n",
              "      background-color: #434B5C;\n",
              "      box-shadow: 0px 1px 3px 1px rgba(0, 0, 0, 0.15);\n",
              "      filter: drop-shadow(0px 1px 2px rgba(0, 0, 0, 0.3));\n",
              "      fill: #FFFFFF;\n",
              "    }\n",
              "  </style>\n",
              "\n",
              "      <script>\n",
              "        const buttonEl =\n",
              "          document.querySelector('#df-0221be46-1f53-497a-8105-99992cd1a5e0 button.colab-df-convert');\n",
              "        buttonEl.style.display =\n",
              "          google.colab.kernel.accessAllowed ? 'block' : 'none';\n",
              "\n",
              "        async function convertToInteractive(key) {\n",
              "          const element = document.querySelector('#df-0221be46-1f53-497a-8105-99992cd1a5e0');\n",
              "          const dataTable =\n",
              "            await google.colab.kernel.invokeFunction('convertToInteractive',\n",
              "                                                     [key], {});\n",
              "          if (!dataTable) return;\n",
              "\n",
              "          const docLinkHtml = 'Like what you see? Visit the ' +\n",
              "            '<a target=\"_blank\" href=https://colab.research.google.com/notebooks/data_table.ipynb>data table notebook</a>'\n",
              "            + ' to learn more about interactive tables.';\n",
              "          element.innerHTML = '';\n",
              "          dataTable['output_type'] = 'display_data';\n",
              "          await google.colab.output.renderOutput(dataTable, element);\n",
              "          const docLink = document.createElement('div');\n",
              "          docLink.innerHTML = docLinkHtml;\n",
              "          element.appendChild(docLink);\n",
              "        }\n",
              "      </script>\n",
              "    </div>\n",
              "  </div>\n",
              "  "
            ]
          },
          "metadata": {},
          "execution_count": 16
        }
      ]
    },
    {
      "cell_type": "markdown",
      "source": [
        "Hydro power plant generates electricity from turbine-driven generators that transform the potential energy of falling or fast-flowing water into mechanical energy.The Bath County is a pumped storage power plant. Plants require electrical energy to pump uphill water, there are net negative electricity generation balances for this pumped storage hydro plants.\n",
        "\n"
      ],
      "metadata": {
        "id": "cIqm0jlDIBe-"
      }
    },
    {
      "cell_type": "markdown",
      "source": [
        "Exploratory Analysis and Visualization\n"
      ],
      "metadata": {
        "id": "vY8FdIl3IFdE"
      }
    },
    {
      "cell_type": "code",
      "source": [
        "import seaborn as sns\n",
        "import matplotlib\n",
        "import matplotlib.pyplot as plt\n",
        "%matplotlib inline\n",
        "\n",
        "sns.set_style('darkgrid')\n",
        "matplotlib.rcParams['font.size'] = 14\n",
        "matplotlib.rcParams['figure.figsize'] = (12, 8)\n",
        "matplotlib.rcParams['figure.facecolor'] = '#00000000'"
      ],
      "metadata": {
        "id": "AkqlqBc3IFtL"
      },
      "execution_count": 17,
      "outputs": []
    },
    {
      "cell_type": "code",
      "source": [
        "global_power_plant_df.country_long.nunique()\n"
      ],
      "metadata": {
        "colab": {
          "base_uri": "https://localhost:8080/"
        },
        "id": "2kHuoP6DIGsI",
        "outputId": "8998acda-3418-49e7-8957-34cef781ff01"
      },
      "execution_count": 18,
      "outputs": [
        {
          "output_type": "execute_result",
          "data": {
            "text/plain": [
              "1"
            ]
          },
          "metadata": {},
          "execution_count": 18
        }
      ]
    },
    {
      "cell_type": "markdown",
      "source": [
        "Let's look up at top 20 countries with heights amount of power plants.\n"
      ],
      "metadata": {
        "id": "QxXNmAwvIP7u"
      }
    },
    {
      "cell_type": "markdown",
      "source": [],
      "metadata": {
        "id": "xw_fVvm9IP3W"
      }
    },
    {
      "cell_type": "code",
      "source": [
        "countries_plant = global_power_plant_df.country_long.value_counts().head(20)\n",
        "countries_plant"
      ],
      "metadata": {
        "colab": {
          "base_uri": "https://localhost:8080/"
        },
        "id": "Ow3PLqvWIGou",
        "outputId": "b03e8791-853e-4472-c1fc-640b91eb877c"
      },
      "execution_count": 19,
      "outputs": [
        {
          "output_type": "execute_result",
          "data": {
            "text/plain": [
              "country_long\n",
              "India    907\n",
              "Name: count, dtype: int64"
            ]
          },
          "metadata": {},
          "execution_count": 19
        }
      ]
    },
    {
      "cell_type": "code",
      "source": [
        "sns.barplot(x = countries_plant.index, y = countries_plant)\n",
        "plt.xticks(rotation = 90)\n",
        "plt.title('Country Designation')\n",
        "plt.ylabel('Number of Power Plant')\n",
        "plt.xlabel('Countries');"
      ],
      "metadata": {
        "colab": {
          "base_uri": "https://localhost:8080/",
          "height": 761
        },
        "id": "burxKz7RIGmj",
        "outputId": "10ffc582-413a-4e0c-c4a9-7b5c3191f635"
      },
      "execution_count": 20,
      "outputs": [
        {
          "output_type": "display_data",
          "data": {
            "text/plain": [
              "<Figure size 1200x800 with 1 Axes>"
            ],
            "image/png": "[encoded data removed]"
          },
          "metadata": {
            "needs_background": "light"
          }
        }
      ]
    },
    {
      "cell_type": "markdown",
      "source": [
        "Fuel use in power plant.\n"
      ],
      "metadata": {
        "id": "SBLD0Kw5IlFd"
      }
    },
    {
      "cell_type": "markdown",
      "source": [
        "Various types of fuel are used in the power plant, which can be classified as primary fuel, other fuel-1, other fuel-2, etc. Primary fuel is used to run the main turbine to generate electricity and other fuels are used to run auxiliary machines to support the generation process.\n",
        "\n"
      ],
      "metadata": {
        "id": "whsllJH1In_V"
      }
    },
    {
      "cell_type": "code",
      "source": [
        "main_primary_fuel = global_power_plant_df.primary_fuel.value_counts() * 100 / global_power_plant_df.primary_fuel.count()\n",
        "main_primary_fuel"
      ],
      "metadata": {
        "colab": {
          "base_uri": "https://localhost:8080/"
        },
        "id": "yPGZVtTIIi2b",
        "outputId": "f4162a88-3de4-4c75-fb07-9bff99b9b5e5"
      },
      "execution_count": 21,
      "outputs": [
        {
          "output_type": "execute_result",
          "data": {
            "text/plain": [
              "primary_fuel\n",
              "Coal       28.445424\n",
              "Hydro      27.673649\n",
              "Solar      14.002205\n",
              "Wind       13.561191\n",
              "Gas         7.607497\n",
              "Biomass     5.512679\n",
              "Oil         2.205072\n",
              "Nuclear     0.992282\n",
              "Name: count, dtype: float64"
            ]
          },
          "metadata": {},
          "execution_count": 21
        }
      ]
    },
    {
      "cell_type": "code",
      "source": [
        "sns.barplot(x = main_primary_fuel, y = main_primary_fuel.index)\n",
        "plt.title('Main primary fuel')\n",
        "plt.xlabel('Count (Percentages)');\n",
        "plt.ylabel('Different type of power plant depands on the type of fuel uses');"
      ],
      "metadata": {
        "colab": {
          "base_uri": "https://localhost:8080/",
          "height": 717
        },
        "id": "EQRbCh9HIi0o",
        "outputId": "1bde884c-c20a-4f01-dd79-d256f850ac19"
      },
      "execution_count": 22,
      "outputs": [
        {
          "output_type": "display_data",
          "data": {
            "text/plain": [
              "<Figure size 1200x800 with 1 Axes>"
            ],
            "image/png": "[encoded data removed]"
          },
          "metadata": {
            "needs_background": "light"
          }
        }
      ]
    },
    {
      "cell_type": "markdown",
      "source": [
        "Renewable energy-based power plants have higher percentages that are beneficial to our future generation. Global warming is the next major threat that we all have to face. It is a good sign that the use of hydro, solar and wind power plants is increasing.\n",
        "\n"
      ],
      "metadata": {
        "id": "E78I8y7-IzPR"
      }
    },
    {
      "cell_type": "markdown",
      "source": [
        "Type of power plant and their capacity\n"
      ],
      "metadata": {
        "id": "O55RR_iWI1Oj"
      }
    },
    {
      "cell_type": "code",
      "source": [
        "sns.scatterplot(x = global_power_plant_df.capacity_mw, y = global_power_plant_df.primary_fuel, s = 150)\n",
        "plt.title('Type of power plant and capacity');"
      ],
      "metadata": {
        "colab": {
          "base_uri": "https://localhost:8080/",
          "height": 717
        },
        "id": "-KQD7jw6Izd1",
        "outputId": "62cb4d2d-9f2d-4070-d118-088a840a2c17"
      },
      "execution_count": 23,
      "outputs": [
        {
          "output_type": "display_data",
          "data": {
            "text/plain": [
              "<Figure size 1200x800 with 1 Axes>"
            ],
            "image/png": "[encoded data removed]"
          },
          "metadata": {
            "needs_background": "light"
          }
        }
      ]
    },
    {
      "cell_type": "markdown",
      "source": [],
      "metadata": {
        "id": "HM0o5VB4JYnW"
      }
    },
    {
      "cell_type": "markdown",
      "source": [
        "The Hydro Power Plant has most of the high-capacity power plant. There is only 0.67 per cent of the nuclear power plant, but the capacity of the power plant is high. In spite of having a higher percentage, the solar power plant has a small capacity.\n",
        "\n"
      ],
      "metadata": {
        "id": "ftzAuD4fJYfJ"
      }
    },
    {
      "cell_type": "markdown",
      "source": [
        "Capacity of generating power in the top 20 countries.\n"
      ],
      "metadata": {
        "id": "tlUNJzXJJbrv"
      }
    },
    {
      "cell_type": "code",
      "source": [
        "countries_capacity = global_power_plant_df.groupby('country_long')[['capacity_mw']].sum().sort_values('capacity_mw', ascending = False).head(20)\n",
        "countries_capacity\n"
      ],
      "metadata": {
        "colab": {
          "base_uri": "https://localhost:8080/",
          "height": 112
        },
        "id": "FWa0t1k1JWK7",
        "outputId": "ec26957d-514b-48f3-ab88-ac18342cd1f6"
      },
      "execution_count": 24,
      "outputs": [
        {
          "output_type": "execute_result",
          "data": {
            "text/plain": [
              "              capacity_mw\n",
              "country_long             \n",
              "India          295884.946"
            ],
            "text/html": [
              "\n",
              "  <div id=\"df-721dfcdd-0700-4b3a-b554-0456a849d8ee\">\n",
              "    <div class=\"colab-df-container\">\n",
              "      <div>\n",
              "<style scoped>\n",
              "    .dataframe tbody tr th:only-of-type {\n",
              "        vertical-align: middle;\n",
              "    }\n",
              "\n",
              "    .dataframe tbody tr th {\n",
              "        vertical-align: top;\n",
              "    }\n",
              "\n",
              "    .dataframe thead th {\n",
              "        text-align: right;\n",
              "    }\n",
              "</style>\n",
              "<table border=\"1\" class=\"dataframe\">\n",
              "  <thead>\n",
              "    <tr style=\"text-align: right;\">\n",
              "      <th></th>\n",
              "      <th>capacity_mw</th>\n",
              "    </tr>\n",
              "    <tr>\n",
              "      <th>country_long</th>\n",
              "      <th></th>\n",
              "    </tr>\n",
              "  </thead>\n",
              "  <tbody>\n",
              "    <tr>\n",
              "      <th>India</th>\n",
              "      <td>295884.946</td>\n",
              "    </tr>\n",
              "  </tbody>\n",
              "</table>\n",
              "</div>\n",
              "      <button class=\"colab-df-convert\" onclick=\"convertToInteractive('df-721dfcdd-0700-4b3a-b554-0456a849d8ee')\"\n",
              "              title=\"Convert this dataframe to an interactive table.\"\n",
              "              style=\"display:none;\">\n",
              "        \n",
              "  <svg xmlns=\"http://www.w3.org/2000/svg\" height=\"24px\"viewBox=\"0 0 24 24\"\n",
              "       width=\"24px\">\n",
              "    <path d=\"M0 0h24v24H0V0z\" fill=\"none\"/>\n",
              "    <path d=\"M18.56 5.44l.94 2.06.94-2.06 2.06-.94-2.06-.94-.94-2.06-.94 2.06-2.06.94zm-11 1L8.5 8.5l.94-2.06 2.06-.94-2.06-.94L8.5 2.5l-.94 2.06-2.06.94zm10 10l.94 2.06.94-2.06 2.06-.94-2.06-.94-.94-2.06-.94 2.06-2.06.94z\"/><path d=\"M17.41 7.96l-1.37-1.37c-.4-.4-.92-.59-1.43-.59-.52 0-1.04.2-1.43.59L10.3 9.45l-7.72 7.72c-.78.78-.78 2.05 0 2.83L4 21.41c.39.39.9.59 1.41.59.51 0 1.02-.2 1.41-.59l7.78-7.78 2.81-2.81c.8-.78.8-2.07 0-2.86zM5.41 20L4 18.59l7.72-7.72 1.47 1.35L5.41 20z\"/>\n",
              "  </svg>\n",
              "      </button>\n",
              "      \n",
              "  <style>\n",
              "    .colab-df-container {\n",
              "      display:flex;\n",
              "      flex-wrap:wrap;\n",
              "      gap: 12px;\n",
              "    }\n",
              "\n",
              "    .colab-df-convert {\n",
              "      background-color: #E8F0FE;\n",
              "      border: none;\n",
              "      border-radius: 50%;\n",
              "      cursor: pointer;\n",
              "      display: none;\n",
              "      fill: #1967D2;\n",
              "      height: 32px;\n",
              "      padding: 0 0 0 0;\n",
              "      width: 32px;\n",
              "    }\n",
              "\n",
              "    .colab-df-convert:hover {\n",
              "      background-color: #E2EBFA;\n",
              "      box-shadow: 0px 1px 2px rgba(60, 64, 67, 0.3), 0px 1px 3px 1px rgba(60, 64, 67, 0.15);\n",
              "      fill: #174EA6;\n",
              "    }\n",
              "\n",
              "    [theme=dark] .colab-df-convert {\n",
              "      background-color: #3B4455;\n",
              "      fill: #D2E3FC;\n",
              "    }\n",
              "\n",
              "    [theme=dark] .colab-df-convert:hover {\n",
              "      background-color: #434B5C;\n",
              "      box-shadow: 0px 1px 3px 1px rgba(0, 0, 0, 0.15);\n",
              "      filter: drop-shadow(0px 1px 2px rgba(0, 0, 0, 0.3));\n",
              "      fill: #FFFFFF;\n",
              "    }\n",
              "  </style>\n",
              "\n",
              "      <script>\n",
              "        const buttonEl =\n",
              "          document.querySelector('#df-721dfcdd-0700-4b3a-b554-0456a849d8ee button.colab-df-convert');\n",
              "        buttonEl.style.display =\n",
              "          google.colab.kernel.accessAllowed ? 'block' : 'none';\n",
              "\n",
              "        async function convertToInteractive(key) {\n",
              "          const element = document.querySelector('#df-721dfcdd-0700-4b3a-b554-0456a849d8ee');\n",
              "          const dataTable =\n",
              "            await google.colab.kernel.invokeFunction('convertToInteractive',\n",
              "                                                     [key], {});\n",
              "          if (!dataTable) return;\n",
              "\n",
              "          const docLinkHtml = 'Like what you see? Visit the ' +\n",
              "            '<a target=\"_blank\" href=https://colab.research.google.com/notebooks/data_table.ipynb>data table notebook</a>'\n",
              "            + ' to learn more about interactive tables.';\n",
              "          element.innerHTML = '';\n",
              "          dataTable['output_type'] = 'display_data';\n",
              "          await google.colab.output.renderOutput(dataTable, element);\n",
              "          const docLink = document.createElement('div');\n",
              "          docLink.innerHTML = docLinkHtml;\n",
              "          element.appendChild(docLink);\n",
              "        }\n",
              "      </script>\n",
              "    </div>\n",
              "  </div>\n",
              "  "
            ]
          },
          "metadata": {},
          "execution_count": 24
        }
      ]
    },
    {
      "cell_type": "code",
      "source": [
        "sns.barplot(x = countries_capacity.index, y = countries_capacity.capacity_mw)\n",
        "plt.xticks(rotation = 90)\n",
        "plt.title('Countries with capacity');\n"
      ],
      "metadata": {
        "colab": {
          "base_uri": "https://localhost:8080/",
          "height": 751
        },
        "id": "oDMPZjZgJfU3",
        "outputId": "6b274a3b-a731-4057-90df-4b5e694e85c9"
      },
      "execution_count": 25,
      "outputs": [
        {
          "output_type": "display_data",
          "data": {
            "text/plain": [
              "<Figure size 1200x800 with 1 Axes>"
            ],
            "image/png": "[encoded data removed]"
          },
          "metadata": {
            "needs_background": "light"
          }
        }
      ]
    },
    {
      "cell_type": "markdown",
      "source": [
        "Different type of primary fuel based power plant and their year of going to the first operation.\n"
      ],
      "metadata": {
        "id": "APlB5SGcJob-"
      }
    },
    {
      "cell_type": "code",
      "source": [
        "sns.scatterplot(x = global_power_plant_df.commissioning_year, y = global_power_plant_df.primary_fuel, s = 150);\n",
        "plt.title('Primary fuel and commission year');"
      ],
      "metadata": {
        "colab": {
          "base_uri": "https://localhost:8080/",
          "height": 717
        },
        "id": "NJpykuVGJigB",
        "outputId": "b5f504cd-f1e8-4474-866c-c5c981c9ba54"
      },
      "execution_count": 26,
      "outputs": [
        {
          "output_type": "display_data",
          "data": {
            "text/plain": [
              "<Figure size 1200x800 with 1 Axes>"
            ],
            "image/png": "[encoded data removed]"
          },
          "metadata": {
            "needs_background": "light"
          }
        }
      ]
    },
    {
      "cell_type": "markdown",
      "source": [
        "Let find out what types of primary fuels power plants were used in the dataset by using unique() method.\n",
        "\n"
      ],
      "metadata": {
        "id": "-VUVOLwLJ06V"
      }
    },
    {
      "cell_type": "code",
      "source": [
        "global_power_plant_df.primary_fuel.unique()\n"
      ],
      "metadata": {
        "colab": {
          "base_uri": "https://localhost:8080/"
        },
        "id": "4mI4cEq5Jq7h",
        "outputId": "d548e9a8-168c-4ff2-c6cd-28dc27a43667"
      },
      "execution_count": 27,
      "outputs": [
        {
          "output_type": "execute_result",
          "data": {
            "text/plain": [
              "array(['Solar', 'Coal', 'Wind', 'Gas', 'Hydro', 'Biomass', 'Oil',\n",
              "       'Nuclear'], dtype=object)"
            ]
          },
          "metadata": {},
          "execution_count": 27
        }
      ]
    },
    {
      "cell_type": "code",
      "source": [
        "bd_power_plant = global_power_plant_df[global_power_plant_df.country_long == 'India']\n"
      ],
      "metadata": {
        "id": "cFvncWy8KOzz"
      },
      "execution_count": 30,
      "outputs": []
    },
    {
      "cell_type": "code",
      "source": [
        "total_power_plant = bd_power_plant.country_long.value_counts()\n",
        "total_power_plant\n"
      ],
      "metadata": {
        "colab": {
          "base_uri": "https://localhost:8080/"
        },
        "id": "YJwstNxNKTu4",
        "outputId": "2f0cddee-3941-4ac6-c1ad-e5e710bfc7c2"
      },
      "execution_count": 31,
      "outputs": [
        {
          "output_type": "execute_result",
          "data": {
            "text/plain": [
              "country_long\n",
              "India    907\n",
              "Name: count, dtype: int64"
            ]
          },
          "metadata": {},
          "execution_count": 31
        }
      ]
    },
    {
      "cell_type": "markdown",
      "source": [
        "There are 907 (runing) power plant in Bangaldesh.\n",
        "\n"
      ],
      "metadata": {
        "id": "UQBZ2EwdKfZF"
      }
    },
    {
      "cell_type": "code",
      "source": [
        "total_capacity = bd_power_plant.capacity_mw.sum()\n",
        "print('India has total capacity of {} megawatt.'.format(total_capacity))"
      ],
      "metadata": {
        "colab": {
          "base_uri": "https://localhost:8080/"
        },
        "id": "Wq6IaRuuKbx0",
        "outputId": "8a7d5407-7a97-4466-f81d-77f2617aa420"
      },
      "execution_count": 32,
      "outputs": [
        {
          "output_type": "stream",
          "name": "stdout",
          "text": [
            "India has total capacity of 295884.946 megawatt.\n"
          ]
        }
      ]
    },
    {
      "cell_type": "code",
      "source": [
        "sns.scatterplot(x = bd_power_plant.primary_fuel, y = bd_power_plant.capacity_mw, s = 150)\n",
        "plt.title('Type of power plant and their capacity');\n"
      ],
      "metadata": {
        "colab": {
          "base_uri": "https://localhost:8080/",
          "height": 733
        },
        "id": "eYm1MAnmKsBp",
        "outputId": "3580be0b-3913-4270-ae53-d943f0dc2726"
      },
      "execution_count": 33,
      "outputs": [
        {
          "output_type": "display_data",
          "data": {
            "text/plain": [
              "<Figure size 1200x800 with 1 Axes>"
            ],
            "image/png": "[encoded data removed]"
          },
          "metadata": {
            "needs_background": "light"
          }
        }
      ]
    },
    {
      "cell_type": "markdown",
      "source": [
        "Inferences and Conclusions\n"
      ],
      "metadata": {
        "id": "tiCQgxfEKuoR"
      }
    },
    {
      "cell_type": "markdown",
      "source": [
        "This analysis gives us an insight into the depth of power plants around the world. How the world produces one of the most important elements, as the country's economic and overall infrastructure depends on electricity.\n",
        "\n",
        "The world is facing global warming, and pollution from power plants is one of the reasons for this. We need to control pollution and urge on countries around the world to build more renewable or green energy power plants."
      ],
      "metadata": {
        "id": "KSxV_CYvKzkg"
      }
    },
    {
      "cell_type": "code",
      "source": [],
      "metadata": {
        "id": "sBiiFevjKz4U"
      },
      "execution_count": null,
      "outputs": []
    }
  ]
}